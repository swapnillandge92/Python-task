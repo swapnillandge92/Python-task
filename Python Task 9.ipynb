{
 "cells": [
  {
   "cell_type": "raw",
   "metadata": {},
   "source": [
    "Task9\n",
    "Ask 2 numbers from users and store it in num1 and num2\n",
    "Ask user to press 1 for addition,2 for subtraction,3 for multiplication and 4 for division\n",
    "based on number given by user do the math operation"
   ]
  },
  {
   "cell_type": "code",
   "execution_count": 1,
   "metadata": {},
   "outputs": [
    {
     "name": "stdout",
     "output_type": "stream",
     "text": [
      "Enter first number: 30\n",
      "Enter second number: 40\n",
      "Enter choice(1/2/3/4): 3\n",
      "Multiplication\n",
      "1200.0\n"
     ]
    }
   ],
   "source": [
    "num1 = float(input(\"Enter first number: \"))\n",
    "num2 = float(input(\"Enter second number: \"))\n",
    "\n",
    "choice = input(\"Enter choice(1/2/3/4): \")\n",
    "\n",
    "if  choice == '1':\n",
    "    add = num1 + num2\n",
    "    print('add')\n",
    "    print(add)\n",
    "\n",
    "elif choice == '2':\n",
    "     subtract = num1 - num2\n",
    "     print('Subtract')\n",
    "     print(subtract)\n",
    "                      \n",
    "elif choice == '3':\n",
    "     multiplication = num1 * num2\n",
    "     print('Multiplication')\n",
    "     print(multiplication)\n",
    "            \n",
    "elif choice == '4':\n",
    "     divide = num1 / num2\n",
    "     print('Division') \n",
    "     print(divide)\n",
    "else:\n",
    "    print('Invalid Inputs')"
   ]
  }
 ],
 "metadata": {
  "kernelspec": {
   "display_name": "Python 3",
   "language": "python",
   "name": "python3"
  },
  "language_info": {
   "codemirror_mode": {
    "name": "ipython",
    "version": 3
   },
   "file_extension": ".py",
   "mimetype": "text/x-python",
   "name": "python",
   "nbconvert_exporter": "python",
   "pygments_lexer": "ipython3",
   "version": "3.6.5"
  }
 },
 "nbformat": 4,
 "nbformat_minor": 2
}
