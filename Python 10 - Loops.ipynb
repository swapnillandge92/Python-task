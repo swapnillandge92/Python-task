{
 "cells": [
  {
   "cell_type": "raw",
   "metadata": {},
   "source": [
    "Task10\n",
    "using while loop print numbers from 10 to 1\n",
    "try using for loop to loop over tuples,sets and dictionaries"
   ]
  },
  {
   "cell_type": "code",
   "execution_count": 2,
   "metadata": {},
   "outputs": [
    {
     "name": "stdout",
     "output_type": "stream",
     "text": [
      "10\n",
      "9\n",
      "8\n",
      "7\n",
      "6\n",
      "5\n",
      "4\n",
      "3\n",
      "2\n",
      "1\n"
     ]
    }
   ],
   "source": [
    "count = 10\n",
    "while(count>0):\n",
    "    print(count)\n",
    "    count = count - 1"
   ]
  },
  {
   "cell_type": "code",
   "execution_count": 4,
   "metadata": {},
   "outputs": [
    {
     "name": "stdout",
     "output_type": "stream",
     "text": [
      "Name\n",
      "DOB\n",
      "year\n",
      "Exp\n"
     ]
    }
   ],
   "source": [
    "dict1 = {\n",
    "    \"Name\":\"Swapnil\",\n",
    "    \"DOB\":\"17Aug\",\n",
    "    \"year\":1992,\n",
    "    \"Exp\":\"6Year\"\n",
    "}\n",
    "for item in dict1:\n",
    "    print(item)\n"
   ]
  },
  {
   "cell_type": "code",
   "execution_count": 6,
   "metadata": {},
   "outputs": [
    {
     "name": "stdout",
     "output_type": "stream",
     "text": [
      "(1, 2, 4, 5.5)\n",
      "(1, 2, 4, 5.5)\n",
      "(1, 2, 4, 5.5)\n",
      "(1, 2, 4, 5.5)\n"
     ]
    }
   ],
   "source": [
    "tup1 = (1,2,4,5.5)\n",
    "for item in tup1:\n",
    "    print(tup1)"
   ]
  },
  {
   "cell_type": "code",
   "execution_count": 7,
   "metadata": {},
   "outputs": [
    {
     "name": "stdout",
     "output_type": "stream",
     "text": [
      "{1, 2, 6, 'python'}\n",
      "{1, 2, 6, 'python'}\n",
      "{1, 2, 6, 'python'}\n",
      "{1, 2, 6, 'python'}\n"
     ]
    }
   ],
   "source": [
    "set1 = {1,2,6,\"python\"}\n",
    "for item in set1:\n",
    "    print(set1)"
   ]
  }
 ],
 "metadata": {
  "kernelspec": {
   "display_name": "Python 3",
   "language": "python",
   "name": "python3"
  },
  "language_info": {
   "codemirror_mode": {
    "name": "ipython",
    "version": 3
   },
   "file_extension": ".py",
   "mimetype": "text/x-python",
   "name": "python",
   "nbconvert_exporter": "python",
   "pygments_lexer": "ipython3",
   "version": "3.6.5"
  }
 },
 "nbformat": 4,
 "nbformat_minor": 2
}
