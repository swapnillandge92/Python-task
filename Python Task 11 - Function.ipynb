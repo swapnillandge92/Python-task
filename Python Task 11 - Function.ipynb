{
 "cells": [
  {
   "cell_type": "raw",
   "metadata": {},
   "source": [
    "Task11\n",
    "Ask 2 numbers from users and store it in num1 and num2\n",
    "Ask user to press 1 for addition,2 for subtraction,3 for multiplication and 4 for division\n",
    "create 4 seperate functions for each operation (i.e. addition,subtraction,multiplication and division)\n",
    "based on number given by user,call that perticular function and print the output\n"
   ]
  },
  {
   "cell_type": "code",
   "execution_count": null,
   "metadata": {},
   "outputs": [],
   "source": [
    "# Function to add two numbers\n",
    "def Add(num1, num2): \n",
    "    return num1 + num2 \n",
    "  \n",
    "# Function to subtract two numbers  \n",
    "def Subtract(num1, num2): \n",
    "    return num1 - num2 \n",
    "  \n",
    "# Function to multiply two numbers \n",
    "def Multiply(num1, num2): \n",
    "    return num1 * num2 \n",
    "  \n",
    "# Function to divide two numbers \n",
    "def Divide(num1, num2): \n",
    "    return num1 / num2 \n",
    "  \n",
    "number1 = int(input(\"Enter first number: \")) \n",
    "number2 = int(input(\"Enter second number: \")) \n",
    "\n",
    "print(\"Please select operation -\\n\" \n",
    "        \"1. Add\\n\" \n",
    "        \"2. Subtract\\n\"  \n",
    "        \"3. Multiply\\n\" \n",
    "        \"4. Divide\\n\")  \n",
    "\n",
    "select = int(input(\"Select operations form 1, 2, 3, 4 :\")) \n",
    "  \n",
    "if select == 1: \n",
    "    print(number1, \"+\", number2, \"=\", \n",
    "                    Add(number1, number2)) \n",
    "  \n",
    "elif select == 2: \n",
    "    print(number1, \"-\", number2, \"=\", \n",
    "                    Subtract(number1, number2)) \n",
    "  \n",
    "elif select == 3: \n",
    "    print(number1, \"*\", number2, \"=\", \n",
    "                    Multiply(number1, number2)) \n",
    "  \n",
    "elif select == 4: \n",
    "    print(number1, \"/\", number2, \"=\", \n",
    "                    Divide(number1, number2)) \n",
    "else: \n",
    "    print(\"Invalid input\") "
   ]
  }
 ],
 "metadata": {
  "kernelspec": {
   "display_name": "Python 3",
   "language": "python",
   "name": "python3"
  },
  "language_info": {
   "codemirror_mode": {
    "name": "ipython",
    "version": 3
   },
   "file_extension": ".py",
   "mimetype": "text/x-python",
   "name": "python",
   "nbconvert_exporter": "python",
   "pygments_lexer": "ipython3",
   "version": "3.6.5"
  }
 },
 "nbformat": 4,
 "nbformat_minor": 2
}
